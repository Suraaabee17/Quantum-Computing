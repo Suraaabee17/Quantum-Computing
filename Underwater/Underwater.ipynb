{
  "nbformat": 4,
  "nbformat_minor": 0,
  "metadata": {
    "colab": {
      "provenance": []
    },
    "kernelspec": {
      "name": "python3",
      "display_name": "Python 3"
    },
    "language_info": {
      "name": "python"
    }
  },
  "cells": [
    {
      "cell_type": "code",
      "execution_count": 1,
      "metadata": {
        "colab": {
          "base_uri": "https://localhost:8080/"
        },
        "id": "KaKJtOjJqXjx",
        "outputId": "a7225ca3-cdab-4764-efe5-da726fca5fb0"
      },
      "outputs": [
        {
          "output_type": "stream",
          "name": "stdout",
          "text": [
            "Requirement already satisfied: numpy in /usr/local/lib/python3.10/dist-packages (1.25.2)\n",
            "Requirement already satisfied: matplotlib in /usr/local/lib/python3.10/dist-packages (3.7.1)\n",
            "Requirement already satisfied: contourpy>=1.0.1 in /usr/local/lib/python3.10/dist-packages (from matplotlib) (1.2.1)\n",
            "Requirement already satisfied: cycler>=0.10 in /usr/local/lib/python3.10/dist-packages (from matplotlib) (0.12.1)\n",
            "Requirement already satisfied: fonttools>=4.22.0 in /usr/local/lib/python3.10/dist-packages (from matplotlib) (4.51.0)\n",
            "Requirement already satisfied: kiwisolver>=1.0.1 in /usr/local/lib/python3.10/dist-packages (from matplotlib) (1.4.5)\n",
            "Requirement already satisfied: packaging>=20.0 in /usr/local/lib/python3.10/dist-packages (from matplotlib) (24.0)\n",
            "Requirement already satisfied: pillow>=6.2.0 in /usr/local/lib/python3.10/dist-packages (from matplotlib) (9.4.0)\n",
            "Requirement already satisfied: pyparsing>=2.3.1 in /usr/local/lib/python3.10/dist-packages (from matplotlib) (3.1.2)\n",
            "Requirement already satisfied: python-dateutil>=2.7 in /usr/local/lib/python3.10/dist-packages (from matplotlib) (2.8.2)\n",
            "Requirement already satisfied: six>=1.5 in /usr/local/lib/python3.10/dist-packages (from python-dateutil>=2.7->matplotlib) (1.16.0)\n"
          ]
        }
      ],
      "source": [
        "# Install necessary libraries\n",
        "!pip install numpy matplotlib\n",
        "\n",
        "# Import libraries\n",
        "import numpy as np\n",
        "import matplotlib.pyplot as plt\n",
        "from mpl_toolkits.mplot3d import Axes3D\n",
        "\n",
        "# Function to display density matrices\n",
        "def display_density_matrix(rho):\n",
        "    fig, ax = plt.subplots()\n",
        "    cax = ax.matshow(rho, cmap='coolwarm')\n",
        "    fig.colorbar(cax)\n",
        "    plt.show()\n",
        "\n",
        "# Function to display the Bloch sphere coordinates\n",
        "def plot_bloch_sphere(x, y, z):\n",
        "    fig = plt.figure()\n",
        "    ax = fig.add_subplot(111, projection='3d')\n",
        "    ax.quiver(0, 0, 0, x, y, z, length=1.0, color='r')\n",
        "    ax.set_xlim([-1, 1])\n",
        "    ax.set_ylim([-1, 1])\n",
        "    ax.set_zlim([-1, 1])\n",
        "    plt.show()\n"
      ]
    },
    {
      "cell_type": "markdown",
      "source": [
        "Puzzle 1: The Coral Clusters"
      ],
      "metadata": {
        "id": "d8uU-ikhq1YK"
      }
    },
    {
      "cell_type": "code",
      "source": [
        "def puzzle_1():\n",
        "    print(\"Puzzle 1: The Coral Clusters\")\n",
        "    print(\"You discovered three types of coral clusters labeled A, B, and C.\")\n",
        "    print(\"Cluster A is in a pure state represented by |ψ⟩ = 1/√3 |0⟩ + √2/3 |1⟩.\")\n",
        "    print(\"Cluster B is in a mixed state with a 50% chance of being in |0⟩ and 50% chance of being in |1⟩.\")\n",
        "    print(\"Cluster C is in a pure state represented by |ϕ⟩ = 1/√2 (|0⟩ − |1⟩).\")\n",
        "\n",
        "    # Define the quantum states\n",
        "    psi_A = np.array([1/np.sqrt(3), np.sqrt(2/3)])\n",
        "    psi_C = np.array([1/np.sqrt(2), -1/np.sqrt(2)])\n",
        "\n",
        "    # Define the density matrices\n",
        "    rho_A = np.outer(psi_A, psi_A.conj())\n",
        "    rho_B = 0.5 * np.eye(2)\n",
        "    rho_C = np.outer(psi_C, psi_C.conj())\n",
        "\n",
        "    # Get user's input for density matrices\n",
        "    try:\n",
        "        print(\"Enter the density matrix for Cluster A:\")\n",
        "        rho_A_user = np.array([[float(input(\"rho_A[0,0]: \")), float(input(\"rho_A[0,1]: \"))],\n",
        "                               [float(input(\"rho_A[1,0]: \")), float(input(\"rho_A[1,1]: \"))]])\n",
        "\n",
        "        if np.allclose(rho_A_user, rho_A):\n",
        "            print(\"Correct!\")\n",
        "        else:\n",
        "            print(\"Incorrect. The correct density matrix for Cluster A is:\")\n",
        "            display_density_matrix(rho_A)\n",
        "            print(rho_A)\n",
        "\n",
        "        print(\"Enter the density matrix for Cluster B:\")\n",
        "        rho_B_user = np.array([[float(input(\"rho_B[0,0]: \")), float(input(\"rho_B[0,1]: \"))],\n",
        "                               [float(input(\"rho_B[1,0]: \")), float(input(\"rho_B[1,1]: \"))]])\n",
        "\n",
        "        if np.allclose(rho_B_user, rho_B):\n",
        "            print(\"Correct!\")\n",
        "        else:\n",
        "            print(\"Incorrect. The correct density matrix for Cluster B is:\")\n",
        "            display_density_matrix(rho_B)\n",
        "            print(rho_B)\n",
        "\n",
        "        print(\"Enter the density matrix for Cluster C:\")\n",
        "        rho_C_user = np.array([[float(input(\"rho_C[0,0]: \")), float(input(\"rho_C[0,1]: \"))],\n",
        "                               [float(input(\"rho_C[1,0]: \")), float(input(\"rho_C[1,1]: \"))]])\n",
        "\n",
        "        if np.allclose(rho_C_user, rho_C):\n",
        "            print(\"Correct!\")\n",
        "        else:\n",
        "            print(\"Incorrect. The correct density matrix for Cluster C is:\")\n",
        "            display_density_matrix(rho_C)\n",
        "            print(rho_C)\n",
        "    except ValueError:\n",
        "        print(\"Please enter valid decimal numbers.\")\n"
      ],
      "metadata": {
        "id": "RgFv1Zl1qZ45"
      },
      "execution_count": 2,
      "outputs": []
    },
    {
      "cell_type": "markdown",
      "source": [
        "Puzzle 2: The Sunken Ship"
      ],
      "metadata": {
        "id": "cvzbMMraqzWh"
      }
    },
    {
      "cell_type": "code",
      "source": [
        "def puzzle_2():\n",
        "    print(\"Puzzle 2: The Sunken Ship\")\n",
        "    print(\"You need to send a secure message to your teammate using the ancient encryption device.\")\n",
        "    print(\"You have the following quantum states available to form your key: |0⟩, |1⟩, |+⟩ (which is 1/√2(|0⟩+|1⟩)), and |−⟩ (which is 1/√2(|0⟩−|1⟩)).\")\n",
        "\n",
        "    correct_states = [\"0\", \"1\", \"+\", \"-\"]\n",
        "\n",
        "    answer = input(\"Which states would you use to maximize security against eavesdropping? Enter the states separated by spaces (e.g., 0 1 + -): \").split()\n",
        "    if sorted(answer) == correct_states:\n",
        "        print(\"Correct!\")\n",
        "    else:\n",
        "        print(\"Incorrect. The correct states are |0⟩, |1⟩, |+⟩, and |−⟩.\")\n"
      ],
      "metadata": {
        "id": "9oDl7uJRquj7"
      },
      "execution_count": 3,
      "outputs": []
    },
    {
      "cell_type": "markdown",
      "source": [
        "Puzzle 3: The Entangled Seaweed Forest"
      ],
      "metadata": {
        "id": "txS2N-9mq40q"
      }
    },
    {
      "cell_type": "code",
      "source": [
        "def puzzle_3():\n",
        "    print(\"Puzzle 3: The Entangled Seaweed Forest\")\n",
        "    print(\"In the seaweed forest, you encounter two entangled qubits represented by the state |Ψ⟩ = 1/√2 (|01⟩ + |10⟩).\")\n",
        "\n",
        "    answer = input(\"If the first qubit is measured and found to be in the state |1⟩, what state will the second qubit collapse into? Enter 0 or 1: \")\n",
        "    if answer == \"0\":\n",
        "        print(\"Correct!\")\n",
        "    else:\n",
        "        print(\"Incorrect. The correct state is |0⟩.\")\n"
      ],
      "metadata": {
        "id": "0p4mxkOQqxKD"
      },
      "execution_count": 4,
      "outputs": []
    },
    {
      "cell_type": "code",
      "source": [
        "def puzzle_4():\n",
        "    print(\"Puzzle 4: The Echo Caves\")\n",
        "    print(\"Using the instruments in the Echo Caves, you can change the angle settings for your quantum measurements.\")\n",
        "    print(\"If you set the angles to 0, 45, and 90 degrees for three different measurements, predict whether these settings will violate Bell’s inequality.\")\n",
        "\n",
        "    angles = [0, np.pi/4, np.pi/2]\n",
        "    expected_values = [np.cos(angle) for angle in angles]\n",
        "\n",
        "    try:\n",
        "        print(\"Enter the expected values for the measurements:\")\n",
        "        expected_values_user = [float(input(f\"Angle {angle*180/np.pi} degrees: \")) for angle in angles]\n",
        "\n",
        "        if np.allclose(expected_values_user, expected_values, atol=0.1):\n",
        "            print(\"Correct!\")\n",
        "        else:\n",
        "            print(\"Incorrect. The correct expected values are:\")\n",
        "            print(expected_values)\n",
        "    except ValueError:\n",
        "        print(\"Please enter valid decimal numbers.\")\n"
      ],
      "metadata": {
        "id": "gMXqbSH-q8xS"
      },
      "execution_count": 5,
      "outputs": []
    },
    {
      "cell_type": "code",
      "source": [
        "def puzzle_5():\n",
        "    print(\"Puzzle 5: The Teleportation Trench\")\n",
        "    print(\"You must teleport a quantum state |χ⟩ = 2/3 |0⟩ + √5/3 |1⟩ using the teleportation protocol.\")\n",
        "    print(\"Given an entangled pair in the state |Φ+⟩ = 1/√2 (|00⟩ + |11⟩), describe the steps you would take to teleport |χ⟩ from one location to another.\")\n",
        "\n",
        "    answer = input(\"Describe the steps for quantum teleportation: \")\n",
        "    correct_steps = \"1. Alice and Bob share an entangled pair in the state |Φ+⟩ = 1/√2 (|00⟩ + |11⟩). \" + \\\n",
        "                    \"2. Alice performs a Bell-state measurement on her qubit and the state |χ⟩. \" + \\\n",
        "                    \"3. Alice sends the measurement result to Bob using classical communication. \" + \\\n",
        "                    \"4. Bob applies the appropriate quantum gate based on Alice's result to his qubit. \" + \\\n",
        "                    \"5. The state |χ⟩ is now teleported to Bob's qubit.\"\n",
        "\n",
        "    if correct_steps.lower() in answer.lower():\n",
        "        print(\"Correct!\")\n",
        "    else:\n",
        "        print(\"Incorrect. The correct steps are:\")\n",
        "        print(correct_steps)\n"
      ],
      "metadata": {
        "id": "312rVX0Lq-ru"
      },
      "execution_count": 6,
      "outputs": []
    },
    {
      "cell_type": "code",
      "source": [
        "def puzzle_6():\n",
        "    print(\"Puzzle 6: The Circuit Reef\")\n",
        "    print(\"You are given a basic quantum circuit that includes two qubits initialized in the state |0⟩ and |1⟩.\")\n",
        "    print(\"Use quantum gates available in the reef (represented by different species of fish) to create a circuit that performs the operation of a quantum half-adder.\")\n",
        "\n",
        "    answer = input(\"Describe your circuit configuration for a quantum half-adder: \")\n",
        "    correct_configuration = \"1. Apply a Hadamard gate to the first qubit. \" + \\\n",
        "                            \"2. Apply a CNOT gate with the first qubit as control and the second qubit as target. \" + \\\n",
        "                            \"3. Apply an additional gate to complete the half-adder circuit.\"\n",
        "\n",
        "    if correct_configuration.lower() in answer.lower():\n",
        "        print(\"Correct!\")\n",
        "    else:\n",
        "        print(\"Incorrect. The correct configuration is:\")\n",
        "        print(correct_configuration)\n"
      ],
      "metadata": {
        "id": "s0CSJIZ2rB0Z"
      },
      "execution_count": 7,
      "outputs": []
    },
    {
      "cell_type": "code",
      "source": [
        "def puzzle_7():\n",
        "    print(\"Puzzle 7: The Bloch Sphere Bubble\")\n",
        "    print(\"Navigate the controls to align the qubit at the point representing the quantum state |ψ⟩ = cos(θ/2)|0⟩ + eiϕ sin(θ/2)|1⟩ with θ = π/3 and ϕ = π/4.\")\n",
        "    print(\"Calculate the coordinates on the Bloch sphere where you should place the marker.\")\n",
        "\n",
        "    try:\n",
        "        theta = np.pi / 3\n",
        "        phi = np.pi / 4\n",
        "        x = np.sin(theta) * np.cos(phi)\n",
        "        y = np.sin(theta) * np.sin(phi)\n",
        "        z = np.cos(theta)\n",
        "\n",
        "        print(\"Enter the coordinates on the Bloch sphere:\")\n",
        "        x_user = float(input(\"x: \"))\n",
        "        y_user = float(input(\"y: \"))\n",
        "        z_user = float(input(\"z: \"))\n",
        "\n",
        "        if np.allclose([x_user, y_user, z_user], [x, y, z], atol=0.1):\n",
        "            print(\"Correct!\")\n",
        "        else:\n",
        "            print(\"Incorrect. The correct coordinates are:\")\n",
        "            plot_bloch_sphere(x, y, z)\n",
        "            print(f\"Coordinates on the Bloch sphere: ({x}, {y}, {z})\")\n",
        "    except ValueError:\n",
        "        print(\"Please enter valid decimal numbers.\")\n"
      ],
      "metadata": {
        "id": "yJlhm3-CrECf"
      },
      "execution_count": 8,
      "outputs": []
    },
    {
      "cell_type": "code",
      "source": [
        "def run_game():\n",
        "    print(\"Welcome to the Underwater Quantum Adventure: Scavenger Hunt!\")\n",
        "    print(\"You will go through a series of puzzles related to quantum mechanics.\")\n",
        "\n",
        "    puzzle_1()\n",
        "    puzzle_2()\n",
        "    puzzle_3()\n",
        "    puzzle_4()\n",
        "    puzzle_5()\n",
        "    puzzle_6()\n",
        "    puzzle_7()\n",
        "\n",
        "    print(\"Congratulations! You have completed the Underwater Quantum Adventure.\")\n",
        "\n",
        "run_game()\n"
      ],
      "metadata": {
        "colab": {
          "base_uri": "https://localhost:8080/"
        },
        "id": "CSkbGXZerGnR",
        "outputId": "8e15e6bb-bbe8-4347-f0a9-8258250b5799"
      },
      "execution_count": 10,
      "outputs": [
        {
          "output_type": "stream",
          "name": "stdout",
          "text": [
            "Welcome to the Underwater Quantum Adventure: Scavenger Hunt!\n",
            "You will go through a series of puzzles related to quantum mechanics.\n",
            "Puzzle 1: The Coral Clusters\n",
            "You discovered three types of coral clusters labeled A, B, and C.\n",
            "Cluster A is in a pure state represented by |ψ⟩ = 1/√3 |0⟩ + √2/3 |1⟩.\n",
            "Cluster B is in a mixed state with a 50% chance of being in |0⟩ and 50% chance of being in |1⟩.\n",
            "Cluster C is in a pure state represented by |ϕ⟩ = 1/√2 (|0⟩ − |1⟩).\n",
            "Enter the density matrix for Cluster A:\n",
            "rho_A[0,0]: 0.333333\n",
            "rho_A[0,1]: 0.471404\n",
            "rho_A[1,0]: 0.471404\n",
            "rho_A[1,1]: 0.666667\n",
            "Correct!\n",
            "Enter the density matrix for Cluster B:\n",
            "rho_B[0,0]: 0.5\n",
            "rho_B[0,1]: 0.0\n",
            "rho_B[1,0]: 0.0\n",
            "rho_B[1,1]: 0.5\n",
            "Correct!\n",
            "Enter the density matrix for Cluster C:\n",
            "rho_C[0,0]: 0.5\n",
            "rho_C[0,1]: -0.5\n",
            "rho_C[1,0]: -0.5\n",
            "rho_C[1,1]: 0.5\n",
            "Correct!\n",
            "Puzzle 2: The Sunken Ship\n",
            "You need to send a secure message to your teammate using the ancient encryption device.\n",
            "You have the following quantum states available to form your key: |0⟩, |1⟩, |+⟩ (which is 1/√2(|0⟩+|1⟩)), and |−⟩ (which is 1/√2(|0⟩−|1⟩)).\n",
            "Which states would you use to maximize security against eavesdropping? Enter the states separated by spaces (e.g., 0 1 + -): 0 1 + -\n",
            "Incorrect. The correct states are |0⟩, |1⟩, |+⟩, and |−⟩.\n",
            "Puzzle 3: The Entangled Seaweed Forest\n",
            "In the seaweed forest, you encounter two entangled qubits represented by the state |Ψ⟩ = 1/√2 (|01⟩ + |10⟩).\n",
            "If the first qubit is measured and found to be in the state |1⟩, what state will the second qubit collapse into? Enter 0 or 1: 0\n",
            "Correct!\n",
            "Puzzle 4: The Echo Caves\n",
            "Using the instruments in the Echo Caves, you can change the angle settings for your quantum measurements.\n",
            "If you set the angles to 0, 45, and 90 degrees for three different measurements, predict whether these settings will violate Bell’s inequality.\n",
            "Enter the expected values for the measurements:\n",
            "Angle 0.0 degrees: 1.0\n",
            "Angle 45.0 degrees: 0.707106\n",
            "Angle 90.0 degrees: 0.0\n",
            "Correct!\n",
            "Puzzle 5: The Teleportation Trench\n",
            "You must teleport a quantum state |χ⟩ = 2/3 |0⟩ + √5/3 |1⟩ using the teleportation protocol.\n",
            "Given an entangled pair in the state |Φ+⟩ = 1/√2 (|00⟩ + |11⟩), describe the steps you would take to teleport |χ⟩ from one location to another.\n",
            "Describe the steps for quantum teleportation: 1. Alice and Bob share an entangled pair in the state |Φ+⟩ = 1/√2 (|00⟩ + |11⟩). 2. Alice performs a Bell-state measurement on her qubit and the state |χ⟩. 3. Alice sends the measurement result to Bob using classical communication. 4. Bob applies the appropriate quantum gate based on Alice's result to his qubit. 5. The state |χ⟩ is now teleported to Bob's qubit.\n",
            "Correct!\n",
            "Puzzle 6: The Circuit Reef\n",
            "You are given a basic quantum circuit that includes two qubits initialized in the state |0⟩ and |1⟩.\n",
            "Use quantum gates available in the reef (represented by different species of fish) to create a circuit that performs the operation of a quantum half-adder.\n",
            "Describe your circuit configuration for a quantum half-adder: 1. Apply a Hadamard gate to the first qubit. 2. Apply a CNOT gate with the first qubit as control and the second qubit as target. 3. Apply an additional gate to complete the half-adder circuit.\n",
            "Correct!\n",
            "Puzzle 7: The Bloch Sphere Bubble\n",
            "Navigate the controls to align the qubit at the point representing the quantum state |ψ⟩ = cos(θ/2)|0⟩ + eiϕ sin(θ/2)|1⟩ with θ = π/3 and ϕ = π/4.\n",
            "Calculate the coordinates on the Bloch sphere where you should place the marker.\n",
            "Enter the coordinates on the Bloch sphere:\n",
            "x: 0.612372\n",
            "y: 0.612372\n",
            "z: 0.5\n",
            "Correct!\n",
            "Congratulations! You have completed the Underwater Quantum Adventure.\n"
          ]
        }
      ]
    },
    {
      "cell_type": "code",
      "source": [],
      "metadata": {
        "id": "zD6p82tsrL5-"
      },
      "execution_count": 10,
      "outputs": []
    }
  ]
}